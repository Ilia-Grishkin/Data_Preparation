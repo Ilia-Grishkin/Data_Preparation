{
 "cells": [
  {
   "cell_type": "code",
   "execution_count": null,
   "id": "65bd8b4c",
   "metadata": {},
   "outputs": [],
   "source": []
  },
  {
   "cell_type": "markdown",
   "id": "a4732719",
   "metadata": {},
   "source": [
    "#### 1. Preview \n",
    "Take a quick look at both files in order to understand what we are going to work with, how data is stored and in which formats. In this stage we may see a few issues:"
   ]
  },
  {
   "cell_type": "markdown",
   "id": "8839e44e",
   "metadata": {},
   "source": [
    "#### 1.1. Formats\n",
    "Files have been saved in different formats. CSV and XLSX. We can change the format of dictionary file from xlsx. to csv. manually by opening file in Excel and saving it as csv file. However the pandas library can read both format. All we need to do is using operators read_csv for csv file and read_excel for xlsx file. as it is performed below."
   ]
  },
  {
   "cell_type": "code",
   "execution_count": 17,
   "id": "a2109dc2",
   "metadata": {},
   "outputs": [],
   "source": [
    "import pandas as pd"
   ]
  },
  {
   "cell_type": "code",
   "execution_count": 19,
   "id": "2c45b8f9",
   "metadata": {},
   "outputs": [],
   "source": [
    "df_studens = pd.read_csv(\"student_data.csv\")\n",
    "df_dictionary = pd.read_excel(\"student_data_dictionary.xlsx\")"
   ]
  },
  {
   "cell_type": "code",
   "execution_count": 22,
   "id": "96e3846a",
   "metadata": {},
   "outputs": [
    {
     "data": {
      "text/html": [
       "<div>\n",
       "<style scoped>\n",
       "    .dataframe tbody tr th:only-of-type {\n",
       "        vertical-align: middle;\n",
       "    }\n",
       "\n",
       "    .dataframe tbody tr th {\n",
       "        vertical-align: top;\n",
       "    }\n",
       "\n",
       "    .dataframe thead th {\n",
       "        text-align: right;\n",
       "    }\n",
       "</style>\n",
       "<table border=\"1\" class=\"dataframe\">\n",
       "  <thead>\n",
       "    <tr style=\"text-align: right;\">\n",
       "      <th></th>\n",
       "      <th>Marital status</th>\n",
       "      <th>Application mode</th>\n",
       "      <th>Application order</th>\n",
       "      <th>Course</th>\n",
       "      <th>Daytime/evening attendance</th>\n",
       "      <th>Previous qualification</th>\n",
       "      <th>Previous qualification (grade)</th>\n",
       "      <th>Nacionality</th>\n",
       "      <th>Mother's qualification</th>\n",
       "      <th>Father's qualification</th>\n",
       "      <th>...</th>\n",
       "      <th>Curricular units 2nd sem (credited)</th>\n",
       "      <th>Curricular units 2nd sem (enrolled)</th>\n",
       "      <th>Curricular units 2nd sem (evaluations)</th>\n",
       "      <th>Curricular units 2nd sem (approved)</th>\n",
       "      <th>Curricular units 2nd sem (grade)</th>\n",
       "      <th>Curricular units 2nd sem (without evaluations)</th>\n",
       "      <th>Unemployment rate</th>\n",
       "      <th>Inflation rate</th>\n",
       "      <th>GDP</th>\n",
       "      <th>Target</th>\n",
       "    </tr>\n",
       "  </thead>\n",
       "  <tbody>\n",
       "    <tr>\n",
       "      <th>0</th>\n",
       "      <td>1</td>\n",
       "      <td>17</td>\n",
       "      <td>5</td>\n",
       "      <td>171.0</td>\n",
       "      <td>1</td>\n",
       "      <td>1</td>\n",
       "      <td>122.0</td>\n",
       "      <td>1</td>\n",
       "      <td>19</td>\n",
       "      <td>12.0</td>\n",
       "      <td>...</td>\n",
       "      <td>0</td>\n",
       "      <td>0.0</td>\n",
       "      <td>0</td>\n",
       "      <td>0</td>\n",
       "      <td>0.000000</td>\n",
       "      <td>0</td>\n",
       "      <td>10.8</td>\n",
       "      <td>1.4</td>\n",
       "      <td>1.74</td>\n",
       "      <td>Dropout</td>\n",
       "    </tr>\n",
       "    <tr>\n",
       "      <th>1</th>\n",
       "      <td>1</td>\n",
       "      <td>15</td>\n",
       "      <td>1</td>\n",
       "      <td>9254.0</td>\n",
       "      <td>1</td>\n",
       "      <td>1</td>\n",
       "      <td>160.0</td>\n",
       "      <td>1</td>\n",
       "      <td>1</td>\n",
       "      <td>3.0</td>\n",
       "      <td>...</td>\n",
       "      <td>0</td>\n",
       "      <td>6.0</td>\n",
       "      <td>6</td>\n",
       "      <td>6</td>\n",
       "      <td>13.666667</td>\n",
       "      <td>0</td>\n",
       "      <td>13.9</td>\n",
       "      <td>-0.3</td>\n",
       "      <td>0.79</td>\n",
       "      <td>Graduate</td>\n",
       "    </tr>\n",
       "  </tbody>\n",
       "</table>\n",
       "<p>2 rows × 37 columns</p>\n",
       "</div>"
      ],
      "text/plain": [
       "  Marital status  Application mode  Application order  Course  \\\n",
       "0              1                17                  5   171.0   \n",
       "1              1                15                  1  9254.0   \n",
       "\n",
       "   Daytime/evening attendance  Previous qualification  \\\n",
       "0                           1                       1   \n",
       "1                           1                       1   \n",
       "\n",
       "   Previous qualification (grade)  Nacionality  Mother's qualification  \\\n",
       "0                           122.0            1                      19   \n",
       "1                           160.0            1                       1   \n",
       "\n",
       "   Father's qualification  ...  Curricular units 2nd sem (credited)  \\\n",
       "0                    12.0  ...                                    0   \n",
       "1                     3.0  ...                                    0   \n",
       "\n",
       "   Curricular units 2nd sem (enrolled)  \\\n",
       "0                                  0.0   \n",
       "1                                  6.0   \n",
       "\n",
       "   Curricular units 2nd sem (evaluations) Curricular units 2nd sem (approved)  \\\n",
       "0                                       0                                   0   \n",
       "1                                       6                                   6   \n",
       "\n",
       "   Curricular units 2nd sem (grade)  \\\n",
       "0                          0.000000   \n",
       "1                         13.666667   \n",
       "\n",
       "   Curricular units 2nd sem (without evaluations) Unemployment rate  \\\n",
       "0                                               0              10.8   \n",
       "1                                               0              13.9   \n",
       "\n",
       "   Inflation rate   GDP    Target  \n",
       "0             1.4  1.74   Dropout  \n",
       "1            -0.3  0.79  Graduate  \n",
       "\n",
       "[2 rows x 37 columns]"
      ]
     },
     "execution_count": 22,
     "metadata": {},
     "output_type": "execute_result"
    }
   ],
   "source": [
    "df_studens.head(2)"
   ]
  },
  {
   "cell_type": "code",
   "execution_count": 24,
   "id": "614b593e",
   "metadata": {},
   "outputs": [
    {
     "data": {
      "text/html": [
       "<div>\n",
       "<style scoped>\n",
       "    .dataframe tbody tr th:only-of-type {\n",
       "        vertical-align: middle;\n",
       "    }\n",
       "\n",
       "    .dataframe tbody tr th {\n",
       "        vertical-align: top;\n",
       "    }\n",
       "\n",
       "    .dataframe thead th {\n",
       "        text-align: right;\n",
       "    }\n",
       "</style>\n",
       "<table border=\"1\" class=\"dataframe\">\n",
       "  <thead>\n",
       "    <tr style=\"text-align: right;\">\n",
       "      <th></th>\n",
       "      <th>Variable Name</th>\n",
       "      <th>Role</th>\n",
       "      <th>Type</th>\n",
       "      <th>Demographic</th>\n",
       "      <th>Description</th>\n",
       "      <th>Units</th>\n",
       "    </tr>\n",
       "  </thead>\n",
       "  <tbody>\n",
       "    <tr>\n",
       "      <th>0</th>\n",
       "      <td>Marital Status</td>\n",
       "      <td>Feature</td>\n",
       "      <td>Integer</td>\n",
       "      <td>Marital Status</td>\n",
       "      <td>1 – single 2 – married 3 – widower 4 – divorce...</td>\n",
       "      <td>NaN</td>\n",
       "    </tr>\n",
       "    <tr>\n",
       "      <th>1</th>\n",
       "      <td>Application mode</td>\n",
       "      <td>Feature</td>\n",
       "      <td>Integer</td>\n",
       "      <td>NaN</td>\n",
       "      <td>1 - 1st phase - general contingent 2 - Ordinan...</td>\n",
       "      <td>NaN</td>\n",
       "    </tr>\n",
       "  </tbody>\n",
       "</table>\n",
       "</div>"
      ],
      "text/plain": [
       "      Variable Name     Role     Type     Demographic  \\\n",
       "0    Marital Status  Feature  Integer  Marital Status   \n",
       "1  Application mode  Feature  Integer             NaN   \n",
       "\n",
       "                                         Description  Units  \n",
       "0  1 – single 2 – married 3 – widower 4 – divorce...    NaN  \n",
       "1  1 - 1st phase - general contingent 2 - Ordinan...    NaN  "
      ]
     },
     "execution_count": 24,
     "metadata": {},
     "output_type": "execute_result"
    }
   ],
   "source": [
    "df_dictionary.head(2)"
   ]
  },
  {
   "cell_type": "markdown",
   "id": "c061569c",
   "metadata": {},
   "source": [
    "As we can see both files were successfully recognised "
   ]
  },
  {
   "cell_type": "markdown",
   "id": "d72a27d2",
   "metadata": {},
   "source": [
    "#### 1.2. Separation\n",
    "It seems that initial dataset was devided into a two parts or data was being collected in this way in a first place. The main table contains foreign keys which connect a specific cell with a defenition in the second table. The second table contains primary keys for main table. \n",
    "I may suggest that those tables are called relational database, and using this method for storing data in this case has several advantages:\n",
    "1. This method saves memory in tables with multiple repetitions.\n",
    "2. It can keep data private and secure, without enclosing personal data. \n",
    "3. This approach helps to get red of potential bias or at least to reduce it. For instance, if some company or department publishes a dataset they can substitute information which may be misinterpretted using keys, and keep table with definitions unpublished."
   ]
  },
  {
   "cell_type": "markdown",
   "id": "650ae7dc",
   "metadata": {},
   "source": [
    "I see three approaches for further data preparation process:\n",
    "1. Identify features which contain foreign keys, format them as a string and treat them as a string values such as ID. It will allow us to do EDA and analyses. Additionally this approach will save time for operations, memory and computing power. However there may be a problem with quality of our EDA and with a futher interpritation. For example, the column \"Marital status\" may contain more foreign keys than stored in dictionary. In this case we can end up with situation where we included missing values. It can affect our preparation and analysis.\n",
    "2. Merging datasets. Substitute foreign keys with their definitions. It will allow us to identify missing values even if cells contain values. For example, if the column \"Marital status\" will contain single numerical values after merging we will be able to assign them as \"Unknown\" category. However, the size of the file with database will grow, with means more memory, computing power and time for code to run will be spent.\n",
    "3. Mixed approach. Technically, we can merge data, make a data preparation proccess. And after devide data back. This apporoach may be helpful if we want to save resourses and perform proper preparation process. However, this method requires many manipulations with data. I think this method make sense when potential resources which may be saved are significantly higher than resourses which analyst spends for that."
   ]
  },
  {
   "cell_type": "code",
   "execution_count": null,
   "id": "6f97c42d",
   "metadata": {},
   "outputs": [],
   "source": []
  }
 ],
 "metadata": {
  "kernelspec": {
   "display_name": "Python 3 (ipykernel)",
   "language": "python",
   "name": "python3"
  },
  "language_info": {
   "codemirror_mode": {
    "name": "ipython",
    "version": 3
   },
   "file_extension": ".py",
   "mimetype": "text/x-python",
   "name": "python",
   "nbconvert_exporter": "python",
   "pygments_lexer": "ipython3",
   "version": "3.9.13"
  }
 },
 "nbformat": 4,
 "nbformat_minor": 5
}
